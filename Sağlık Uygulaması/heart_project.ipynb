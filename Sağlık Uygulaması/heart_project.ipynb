{
 "cells": [
  {
   "cell_type": "code",
   "execution_count": 10,
   "metadata": {},
   "outputs": [
    {
     "name": "stdout",
     "output_type": "stream",
     "text": [
      "     age  sex  cp  trtbps  chol  fbs  restecg  thalachh  exng  oldpeak  slp  \\\n",
      "0     63    1   3     145   233    1        0       150     0      2.3    0   \n",
      "1     37    1   2     130   250    0        1       187     0      3.5    0   \n",
      "2     41    0   1     130   204    0        0       172     0      1.4    2   \n",
      "3     56    1   1     120   236    0        1       178     0      0.8    2   \n",
      "4     57    0   0     120   354    0        1       163     1      0.6    2   \n",
      "..   ...  ...  ..     ...   ...  ...      ...       ...   ...      ...  ...   \n",
      "298   57    0   0     140   241    0        1       123     1      0.2    1   \n",
      "299   45    1   3     110   264    0        1       132     0      1.2    1   \n",
      "300   68    1   0     144   193    1        1       141     0      3.4    1   \n",
      "301   57    1   0     130   131    0        1       115     1      1.2    1   \n",
      "302   57    0   1     130   236    0        0       174     0      0.0    1   \n",
      "\n",
      "     caa  thall  output  \n",
      "0      0      1       1  \n",
      "1      0      2       1  \n",
      "2      0      2       1  \n",
      "3      0      2       1  \n",
      "4      0      2       1  \n",
      "..   ...    ...     ...  \n",
      "298    0      3       0  \n",
      "299    0      3       0  \n",
      "300    2      3       0  \n",
      "301    1      3       0  \n",
      "302    1      2       0  \n",
      "\n",
      "[303 rows x 14 columns]\n"
     ]
    }
   ],
   "source": [
    "import pandas as pd\n",
    "dataset= pd.read_csv(r\"C:\\Users\\ilgin\\Desktop\\heart.csv\")\n",
    "print(dataset)"
   ]
  },
  {
   "cell_type": "code",
   "execution_count": 11,
   "metadata": {},
   "outputs": [
    {
     "name": "stdout",
     "output_type": "stream",
     "text": [
      "<class 'pandas.core.frame.DataFrame'>\n",
      "RangeIndex: 303 entries, 0 to 302\n",
      "Data columns (total 14 columns):\n",
      " #   Column    Non-Null Count  Dtype  \n",
      "---  ------    --------------  -----  \n",
      " 0   age       303 non-null    int64  \n",
      " 1   sex       303 non-null    int64  \n",
      " 2   cp        303 non-null    int64  \n",
      " 3   trtbps    303 non-null    int64  \n",
      " 4   chol      303 non-null    int64  \n",
      " 5   fbs       303 non-null    int64  \n",
      " 6   restecg   303 non-null    int64  \n",
      " 7   thalachh  303 non-null    int64  \n",
      " 8   exng      303 non-null    int64  \n",
      " 9   oldpeak   303 non-null    float64\n",
      " 10  slp       303 non-null    int64  \n",
      " 11  caa       303 non-null    int64  \n",
      " 12  thall     303 non-null    int64  \n",
      " 13  output    303 non-null    int64  \n",
      "dtypes: float64(1), int64(13)\n",
      "memory usage: 33.3 KB\n"
     ]
    }
   ],
   "source": [
    "dataset.info()"
   ]
  },
  {
   "cell_type": "markdown",
   "metadata": {},
   "source": [
    "iloc satır ve sütun seçmek için [a , b]  a satır b sütun c:d c'den d'ye kadar. : ise hepsi"
   ]
  },
  {
   "cell_type": "code",
   "execution_count": 12,
   "metadata": {},
   "outputs": [
    {
     "name": "stdout",
     "output_type": "stream",
     "text": [
      "        age  sex  cp  trtbps  chol  fbs  restecg  thalachh  exng  oldpeak  \\\n",
      "0    60-100    1   3     145   233    1        0       150     0      2.3   \n",
      "1     20-40    1   2     130   250    0        1       187     0      3.5   \n",
      "2     40-60    0   1     130   204    0        0       172     0      1.4   \n",
      "3     40-60    1   1     120   236    0        1       178     0      0.8   \n",
      "4     40-60    0   0     120   354    0        1       163     1      0.6   \n",
      "..      ...  ...  ..     ...   ...  ...      ...       ...   ...      ...   \n",
      "298   40-60    0   0     140   241    0        1       123     1      0.2   \n",
      "299   40-60    1   3     110   264    0        1       132     0      1.2   \n",
      "300  60-100    1   0     144   193    1        1       141     0      3.4   \n",
      "301   40-60    1   0     130   131    0        1       115     1      1.2   \n",
      "302   40-60    0   1     130   236    0        0       174     0      0.0   \n",
      "\n",
      "     slp  caa  thall  output  \n",
      "0      0    0      1       1  \n",
      "1      0    0      2       1  \n",
      "2      2    0      2       1  \n",
      "3      2    0      2       1  \n",
      "4      2    0      2       1  \n",
      "..   ...  ...    ...     ...  \n",
      "298    1    0      3       0  \n",
      "299    1    0      3       0  \n",
      "300    1    2      3       0  \n",
      "301    1    1      3       0  \n",
      "302    1    1      2       0  \n",
      "\n",
      "[303 rows x 14 columns]\n"
     ]
    }
   ],
   "source": [
    "bins=[0,20,40,60,100]\n",
    "labels=[\"0-20\",\"20-40\",\"40-60\",\"60-100\"]\n",
    "dataset[\"age\"]=pd.cut(dataset[\"age\"],bins=bins,labels=labels,right=False)\n",
    "print(dataset)"
   ]
  },
  {
   "cell_type": "markdown",
   "metadata": {},
   "source": [
    "bins de nokta belirlenir,labels da aralıklar. yaşları gruplandırmak için."
   ]
  },
  {
   "cell_type": "code",
   "execution_count": 13,
   "metadata": {},
   "outputs": [
    {
     "name": "stdout",
     "output_type": "stream",
     "text": [
      "        age  sex  cp    trtbps      chol  fbs  restecg  thalachh  exng  \\\n",
      "0    60-100    1   3  0.481132  0.244292    1        0  0.603053     0   \n",
      "1     20-40    1   2  0.339623  0.283105    0        1  0.885496     0   \n",
      "2     40-60    0   1  0.339623  0.178082    0        0  0.770992     0   \n",
      "3     40-60    1   1  0.245283  0.251142    0        1  0.816794     0   \n",
      "4     40-60    0   0  0.245283  0.520548    0        1  0.702290     1   \n",
      "..      ...  ...  ..       ...       ...  ...      ...       ...   ...   \n",
      "298   40-60    0   0  0.433962  0.262557    0        1  0.396947     1   \n",
      "299   40-60    1   3  0.150943  0.315068    0        1  0.465649     0   \n",
      "300  60-100    1   0  0.471698  0.152968    1        1  0.534351     0   \n",
      "301   40-60    1   0  0.339623  0.011416    0        1  0.335878     1   \n",
      "302   40-60    0   1  0.339623  0.251142    0        0  0.786260     0   \n",
      "\n",
      "     oldpeak  slp  caa  thall  output  \n",
      "0        2.3    0    0      1       1  \n",
      "1        3.5    0    0      2       1  \n",
      "2        1.4    2    0      2       1  \n",
      "3        0.8    2    0      2       1  \n",
      "4        0.6    2    0      2       1  \n",
      "..       ...  ...  ...    ...     ...  \n",
      "298      0.2    1    0      3       0  \n",
      "299      1.2    1    0      3       0  \n",
      "300      3.4    1    2      3       0  \n",
      "301      1.2    1    1      3       0  \n",
      "302      0.0    1    1      2       0  \n",
      "\n",
      "[303 rows x 14 columns]\n"
     ]
    }
   ],
   "source": [
    "import numpy as np\n",
    "from sklearn.preprocessing import MinMaxScaler\n",
    "scaler=MinMaxScaler()\n",
    "dataset[[\"trtbps\" , \"chol\" , \"thalachh\"]] = scaler.fit_transform(dataset[[\"trtbps\" , \"chol\" , \"thalachh\"]])\n",
    "\n",
    "print(dataset)"
   ]
  },
  {
   "cell_type": "code",
   "execution_count": 14,
   "metadata": {},
   "outputs": [
    {
     "name": "stdout",
     "output_type": "stream",
     "text": [
      "     age  sex  cp    trtbps      chol  fbs  restecg  thalachh  exng  oldpeak  \\\n",
      "0      2    1   3  0.481132  0.244292    1        0  0.603053     0      2.3   \n",
      "1      0    1   2  0.339623  0.283105    0        1  0.885496     0      3.5   \n",
      "2      1    0   1  0.339623  0.178082    0        0  0.770992     0      1.4   \n",
      "3      1    1   1  0.245283  0.251142    0        1  0.816794     0      0.8   \n",
      "4      1    0   0  0.245283  0.520548    0        1  0.702290     1      0.6   \n",
      "..   ...  ...  ..       ...       ...  ...      ...       ...   ...      ...   \n",
      "298    1    0   0  0.433962  0.262557    0        1  0.396947     1      0.2   \n",
      "299    1    1   3  0.150943  0.315068    0        1  0.465649     0      1.2   \n",
      "300    2    1   0  0.471698  0.152968    1        1  0.534351     0      3.4   \n",
      "301    1    1   0  0.339623  0.011416    0        1  0.335878     1      1.2   \n",
      "302    1    0   1  0.339623  0.251142    0        0  0.786260     0      0.0   \n",
      "\n",
      "     slp  caa  thall  output  \n",
      "0      0    0      1       1  \n",
      "1      0    0      2       1  \n",
      "2      2    0      2       1  \n",
      "3      2    0      2       1  \n",
      "4      2    0      2       1  \n",
      "..   ...  ...    ...     ...  \n",
      "298    1    0      3       0  \n",
      "299    1    0      3       0  \n",
      "300    1    2      3       0  \n",
      "301    1    1      3       0  \n",
      "302    1    1      2       0  \n",
      "\n",
      "[303 rows x 14 columns]\n"
     ]
    }
   ],
   "source": [
    "from sklearn.preprocessing import LabelEncoder\n",
    "le=LabelEncoder()                                                 #labelencoding\n",
    "dataset[\"age\"] = le.fit_transform(dataset[\"age\"])\n",
    "print(dataset)"
   ]
  },
  {
   "cell_type": "markdown",
   "metadata": {},
   "source": [
    "etiketleme işlemi encoder ; fit_transform çevirme işlemi "
   ]
  },
  {
   "cell_type": "code",
   "execution_count": 15,
   "metadata": {},
   "outputs": [
    {
     "name": "stdout",
     "output_type": "stream",
     "text": [
      "     age  sex  cp    trtbps      chol  fbs  restecg  thalachh  exng  oldpeak  \\\n",
      "0      2    1   3  0.481132  0.244292    1        0  0.603053     0      2.3   \n",
      "1      0    1   2  0.339623  0.283105    0        1  0.885496     0      3.5   \n",
      "2      1    0   1  0.339623  0.178082    0        0  0.770992     0      1.4   \n",
      "3      1    1   1  0.245283  0.251142    0        1  0.816794     0      0.8   \n",
      "4      1    0   0  0.245283  0.520548    0        1  0.702290     1      0.6   \n",
      "..   ...  ...  ..       ...       ...  ...      ...       ...   ...      ...   \n",
      "298    1    0   0  0.433962  0.262557    0        1  0.396947     1      0.2   \n",
      "299    1    1   3  0.150943  0.315068    0        1  0.465649     0      1.2   \n",
      "300    2    1   0  0.471698  0.152968    1        1  0.534351     0      3.4   \n",
      "301    1    1   0  0.339623  0.011416    0        1  0.335878     1      1.2   \n",
      "302    1    0   1  0.339623  0.251142    0        0  0.786260     0      0.0   \n",
      "\n",
      "     slp  caa  thall  \n",
      "0      0    0      1  \n",
      "1      0    0      2  \n",
      "2      2    0      2  \n",
      "3      2    0      2  \n",
      "4      2    0      2  \n",
      "..   ...  ...    ...  \n",
      "298    1    0      3  \n",
      "299    1    0      3  \n",
      "300    1    2      3  \n",
      "301    1    1      3  \n",
      "302    1    1      2  \n",
      "\n",
      "[303 rows x 13 columns]\n",
      "0      1\n",
      "1      1\n",
      "2      1\n",
      "3      1\n",
      "4      1\n",
      "      ..\n",
      "298    0\n",
      "299    0\n",
      "300    0\n",
      "301    0\n",
      "302    0\n",
      "Name: output, Length: 303, dtype: int64\n"
     ]
    }
   ],
   "source": [
    "XSample=dataset.drop(\"output\" , axis=1)\n",
    "YSample =dataset.output\n",
    "print(XSample)\n",
    "print(YSample) "
   ]
  },
  {
   "cell_type": "code",
   "execution_count": 16,
   "metadata": {},
   "outputs": [],
   "source": [
    "#YSample=pd.get_dummies(YSample)\n",
    "#YSample                                    #one-hot encoding"
   ]
  },
  {
   "cell_type": "code",
   "execution_count": 17,
   "metadata": {},
   "outputs": [],
   "source": [
    "YSample=YSample.astype(int) #boolean-->int"
   ]
  },
  {
   "cell_type": "code",
   "execution_count": 18,
   "metadata": {},
   "outputs": [
    {
     "name": "stdout",
     "output_type": "stream",
     "text": [
      "(181, 13)\n",
      "(61, 13)\n",
      "(61, 13)\n",
      "(181,)\n",
      "(61,)\n",
      "(61,)\n"
     ]
    }
   ],
   "source": [
    "from sklearn.model_selection import train_test_split\n",
    "XTrain, XTest, yTrain, yTest= train_test_split(XSample,YSample, test_size=0.2, random_state=42)\n",
    "XTrain, XVal, yTrain, yVal = train_test_split(XTrain,yTrain,test_size=0.25,random_state=42)\n",
    "\n",
    "print(XTrain.shape)\n",
    "print(XTest.shape)\n",
    "print(XVal.shape)\n",
    "print(yTrain.shape)\n",
    "print(yTest.shape)\n",
    "print(yVal.shape)"
   ]
  },
  {
   "cell_type": "markdown",
   "metadata": {},
   "source": [
    "başta sample'ı %80 train ve %20 test olarak ayırıyoruz. Sonra train'i de %20 val %60 train olacak şekilde ayırıyoruz. İlk ayırmada parametre sample ikincisinde train. Y'yi de X ve Y 'leri aynı alsın diye eşitliyoruz.(1.satırdakini 1.yle eşleştirsin vs.) 13 ve 2 de x'te 13 parametre(yaş,cinsiyet gibi) var y'de 2(0 ve 1ler gibi)"
   ]
  },
  {
   "cell_type": "code",
   "execution_count": 19,
   "metadata": {},
   "outputs": [
    {
     "name": "stdout",
     "output_type": "stream",
     "text": [
      "              precision    recall  f1-score   support\n",
      "\n",
      "           0       0.86      0.83      0.84        29\n",
      "           1       0.85      0.88      0.86        32\n",
      "\n",
      "    accuracy                           0.85        61\n",
      "   macro avg       0.85      0.85      0.85        61\n",
      "weighted avg       0.85      0.85      0.85        61\n",
      "\n",
      "[[24  5]\n",
      " [ 4 28]]\n"
     ]
    }
   ],
   "source": [
    "from sklearn.ensemble import RandomForestClassifier\n",
    "from sklearn.metrics import classification_report,confusion_matrix\n",
    "\n",
    "model = RandomForestClassifier(random_state=21)\n",
    "model.fit(XTrain,yTrain) #model kendini eğitiyor\n",
    "\n",
    "y_test_pred = model.predict(XTest) #xtest e göre predict\n",
    "\n",
    "print(classification_report(yTest,y_test_pred))  #aldığı sonuçları gerçek hayattaki sonuçlarla karşılaştırıyor.\n",
    "\n",
    "print(confusion_matrix(yTest,y_test_pred))\n",
    "\n"
   ]
  },
  {
   "cell_type": "markdown",
   "metadata": {},
   "source": [
    "confusion matrix(tp,tn,fp,fn)  "
   ]
  },
  {
   "cell_type": "code",
   "execution_count": null,
   "metadata": {},
   "outputs": [],
   "source": []
  }
 ],
 "metadata": {
  "kernelspec": {
   "display_name": "Python 3",
   "language": "python",
   "name": "python3"
  },
  "language_info": {
   "codemirror_mode": {
    "name": "ipython",
    "version": 3
   },
   "file_extension": ".py",
   "mimetype": "text/x-python",
   "name": "python",
   "nbconvert_exporter": "python",
   "pygments_lexer": "ipython3",
   "version": "3.9.19"
  }
 },
 "nbformat": 4,
 "nbformat_minor": 2
}
